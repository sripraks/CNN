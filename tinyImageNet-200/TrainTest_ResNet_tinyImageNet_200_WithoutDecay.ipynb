{
  "nbformat": 4,
  "nbformat_minor": 0,
  "metadata": {
    "colab": {
      "name": "Train_ResNet_tinyImageNet_200_WithoutDecay.ipynb",
      "provenance": [],
      "mount_file_id": "1ADPpJ1LM3XDW-Usb4NLm759SxQoqU_aJ",
      "authorship_tag": "ABX9TyP0r0AYqaD3bhaD4HyNuxH9",
      "include_colab_link": true
    },
    "kernelspec": {
      "name": "python3",
      "display_name": "Python 3"
    },
    "accelerator": "GPU"
  },
  "cells": [
    {
      "cell_type": "markdown",
      "metadata": {
        "id": "view-in-github",
        "colab_type": "text"
      },
      "source": [
        "<a href=\"https://colab.research.google.com/github/sripraks/CNN/blob/main/tinyImageNet-200/TrainTest_ResNet_tinyImageNet_200_WithoutDecay.ipynb\" target=\"_parent\"><img src=\"https://colab.research.google.com/assets/colab-badge.svg\" alt=\"Open In Colab\"/></a>"
      ]
    },
    {
      "cell_type": "code",
      "metadata": {
        "id": "wSgejap3RDvy"
      },
      "source": [
        "# set the matplotlib backend so figures can be saved in the background\r\n",
        "import matplotlib\r\n",
        "matplotlib.use(\"Agg\")\r\n",
        "\r\n",
        "# import the necessary packages\r\n",
        "from tensorflow.keras.preprocessing.image import ImageDataGenerator\r\n",
        "from tensorflow.keras.optimizers import SGD\r\n",
        "from tensorflow.keras.models import load_model\r\n",
        "import tensorflow.keras.backend as K\r\n",
        "import argparse\r\n",
        "import json\r\n",
        "import sys"
      ],
      "execution_count": 39,
      "outputs": []
    },
    {
      "cell_type": "code",
      "metadata": {
        "id": "u_iTydFdRzfZ"
      },
      "source": [
        "# import the necessary packages\r\n",
        "from os import path\r\n",
        "\r\n",
        "# since we do not have access to the testing data we need to\r\n",
        "# take a number of images from the training data and use it instead\r\n",
        "NUM_CLASSES = 200\r\n",
        "NUM_TEST_IMAGES = 50 * NUM_CLASSES\r\n",
        "\r\n",
        "# define the path to the output training, validation, and testing\r\n",
        "# HDF5 files\r\n",
        "TRAIN_HDF5 = \"/content/drive/MyDrive/dataset/tiny-imagenet-200-hdf5/train.hdf5\"\r\n",
        "VAL_HDF5 = \"/content/drive/MyDrive/dataset/tiny-imagenet-200-hdf5/val.hdf5\"\r\n",
        "TEST_HDF5 = \"/content/drive/MyDrive/dataset/tiny-imagenet-200-hdf5/test.hdf5\"\r\n",
        "\r\n",
        "# define the path to the dataset mean\r\n",
        "DATASET_MEAN = \"/content/drive/MyDrive/dataset/tiny-imagenet-200-hdf5/tiny-image-net-200-mean.json\"\r\n",
        "\r\n",
        "# define the path to the output directory used for storing plots,\r\n",
        "# classification reports, etc.\r\n",
        "OUTPUT_PATH = \"/content/drive/MyDrive/dataset/tiny-imagenet-200-hdf5/output\"\r\n",
        "MODEL_PATH = path.sep.join([OUTPUT_PATH,\"resnet_tinyimagenet_withoutdecay.hdf5\"])\r\n",
        "FIG_PATH = path.sep.join([OUTPUT_PATH,\"resnet56_tinyimagenet_withoutdecay.png\"])\r\n",
        "JSON_PATH = path.sep.join([OUTPUT_PATH,\"resnet56_tinyimagenet_withoutdecay.json\"])"
      ],
      "execution_count": 40,
      "outputs": []
    },
    {
      "cell_type": "code",
      "metadata": {
        "id": "DhUg71XcR7Wj"
      },
      "source": [
        "# import the necessary packages\r\n",
        "from tensorflow.keras.preprocessing.image import img_to_array\r\n",
        "\r\n",
        "class ImageToArrayPreprocessor:\r\n",
        "\tdef __init__(self, dataFormat=None):\r\n",
        "\t\t# store the image data format\r\n",
        "\t\tself.dataFormat = dataFormat\r\n",
        "\r\n",
        "\tdef preprocess(self, image):\r\n",
        "\t\t# apply the Keras utility function that correctly rearranges\r\n",
        "\t\t# the dimensions of the image\r\n",
        "\t\treturn img_to_array(image, data_format=self.dataFormat)"
      ],
      "execution_count": 41,
      "outputs": []
    },
    {
      "cell_type": "code",
      "metadata": {
        "id": "6Bud_NRqSCbW"
      },
      "source": [
        "# import the necessary packages\r\n",
        "import cv2\r\n",
        "\r\n",
        "class SimplePreprocessor:\r\n",
        "\tdef __init__(self, width, height, inter=cv2.INTER_AREA):\r\n",
        "\t\t# store the target image width, height, and interpolation\r\n",
        "\t\t# method used when resizing\r\n",
        "\t\tself.width = width\r\n",
        "\t\tself.height = height\r\n",
        "\t\tself.inter = inter\r\n",
        "\r\n",
        "\tdef preprocess(self, image):\r\n",
        "\t\t# resize the image to a fixed size, ignoring the aspect\r\n",
        "\t\t# ratio\r\n",
        "\t\treturn cv2.resize(image, (self.width, self.height),\r\n",
        "\t\t\tinterpolation=self.inter)"
      ],
      "execution_count": 42,
      "outputs": []
    },
    {
      "cell_type": "code",
      "metadata": {
        "id": "eWPjNqhJSIOm"
      },
      "source": [
        "# import the necessary packages\r\n",
        "import cv2\r\n",
        "\r\n",
        "class MeanPreprocessor:\r\n",
        "\tdef __init__(self, rMean, gMean, bMean):\r\n",
        "\t\t# store the Red, Green, and Blue channel averages across a\r\n",
        "\t\t# training set\r\n",
        "\t\tself.rMean = rMean\r\n",
        "\t\tself.gMean = gMean\r\n",
        "\t\tself.bMean = bMean\r\n",
        "\r\n",
        "\tdef preprocess(self, image):\r\n",
        "\t\t# split the image into its respective Red, Green, and Blue\r\n",
        "\t\t# channels\r\n",
        "\t\t(B, G, R) = cv2.split(image.astype(\"float32\"))\r\n",
        "\r\n",
        "\t\t# subtract the means for each channel\r\n",
        "\t\tR -= self.rMean\r\n",
        "\t\tG -= self.gMean\r\n",
        "\t\tB -= self.bMean\r\n",
        "\r\n",
        "\t\t# merge the channels back together and return the image\r\n",
        "\t\treturn cv2.merge([B, G, R])"
      ],
      "execution_count": 43,
      "outputs": []
    },
    {
      "cell_type": "code",
      "metadata": {
        "id": "hGELgQE3SNxV"
      },
      "source": [
        "# import the necessary packages\r\n",
        "from tensorflow.keras.callbacks import Callback\r\n",
        "import os\r\n",
        "\r\n",
        "class EpochCheckpoint(Callback):\r\n",
        "\tdef __init__(self, outputPath, every=5, startAt=0):\r\n",
        "\t\t# call the parent constructor\r\n",
        "\t\tsuper(Callback, self).__init__()\r\n",
        "\r\n",
        "\t\t# store the base output path for the model, the number of\r\n",
        "\t\t# epochs that must pass before the model is serialized to\r\n",
        "\t\t# disk and the current epoch value\r\n",
        "\t\tself.outputPath = outputPath\r\n",
        "\t\tself.every = every\r\n",
        "\t\tself.intEpoch = startAt\r\n",
        "\r\n",
        "\tdef on_epoch_end(self, epoch, logs={}):\r\n",
        "\t\t# check to see if the model should be serialized to disk\r\n",
        "\t\tif (self.intEpoch + 1) % self.every == 0:\r\n",
        "\t\t\tp = os.path.sep.join([self.outputPath,\r\n",
        "\t\t\t\t\"epoch_{}.hdf5\".format(self.intEpoch + 1)])\r\n",
        "\t\t\tself.model.save(p, overwrite=True)\r\n",
        "\r\n",
        "\t\t# increment the internal epoch counter\r\n",
        "\t\tself.intEpoch += 1"
      ],
      "execution_count": 44,
      "outputs": []
    },
    {
      "cell_type": "code",
      "metadata": {
        "id": "P4MEA6zNSQTm"
      },
      "source": [
        "# import the necessary packages\r\n",
        "from tensorflow.keras.callbacks import BaseLogger\r\n",
        "import matplotlib.pyplot as plt\r\n",
        "import numpy as np\r\n",
        "import json\r\n",
        "import os\r\n",
        "\r\n",
        "class TrainingMonitor(BaseLogger):\r\n",
        "\tdef __init__(self, figPath, jsonPath=None, startAt=0):\r\n",
        "\t\t# store the output path for the figure, the path to the JSON\r\n",
        "\t\t# serialized file, and the starting epoch\r\n",
        "\t\tsuper(TrainingMonitor, self).__init__()\r\n",
        "\t\tself.figPath = figPath\r\n",
        "\t\tself.jsonPath = jsonPath\r\n",
        "\t\tself.startAt = startAt\r\n",
        "\r\n",
        "\tdef on_train_begin(self, logs={}):\r\n",
        "\t\t# initialize the history dictionary\r\n",
        "\t\tself.H = {}\r\n",
        "\r\n",
        "\t\t# if the JSON history path exists, load the training history\r\n",
        "\t\tif self.jsonPath is not None:\r\n",
        "\t\t\tif os.path.exists(self.jsonPath):\r\n",
        "\t\t\t\tself.H = json.loads(open(self.jsonPath).read())\r\n",
        "\r\n",
        "\t\t\t\t# check to see if a starting epoch was supplied\r\n",
        "\t\t\t\tif self.startAt > 0:\r\n",
        "\t\t\t\t\t# loop over the entries in the history log and\r\n",
        "\t\t\t\t\t# trim any entries that are past the starting\r\n",
        "\t\t\t\t\t# epoch\r\n",
        "\t\t\t\t\tfor k in self.H.keys():\r\n",
        "\t\t\t\t\t\tself.H[k] = self.H[k][:self.startAt]\r\n",
        "\r\n",
        "\tdef on_epoch_end(self, epoch, logs={}):\r\n",
        "\t\t# loop over the logs and update the loss, accuracy, etc.\r\n",
        "\t\t# for the entire training process\r\n",
        "\t\tfor (k, v) in logs.items():\r\n",
        "\t\t\tl = self.H.get(k, [])\r\n",
        "\t\t\tl.append(float(v))\r\n",
        "\t\t\tself.H[k] = l\r\n",
        "\r\n",
        "\t\t# check to see if the training history should be serialized\r\n",
        "\t\t# to file\r\n",
        "\t\tif self.jsonPath is not None:\r\n",
        "\t\t\tf = open(self.jsonPath, \"w\")\r\n",
        "\t\t\tf.write(json.dumps(self.H))\r\n",
        "\t\t\tf.close()\r\n",
        "\r\n",
        "\t\t# ensure at least two epochs have passed before plotting\r\n",
        "\t\t# (epoch starts at zero)\r\n",
        "\t\tif len(self.H[\"loss\"]) > 1:\r\n",
        "\t\t\t# plot the training loss and accuracy\r\n",
        "\t\t\tN = np.arange(0, len(self.H[\"loss\"]))\r\n",
        "\t\t\tplt.style.use(\"ggplot\")\r\n",
        "\t\t\tplt.figure()\r\n",
        "\t\t\tplt.plot(N, self.H[\"loss\"], label=\"train_loss\")\r\n",
        "\t\t\tplt.plot(N, self.H[\"val_loss\"], label=\"val_loss\")\r\n",
        "\t\t\tplt.plot(N, self.H[\"accuracy\"], label=\"train_acc\")\r\n",
        "\t\t\tplt.plot(N, self.H[\"val_accuracy\"], label=\"val_acc\")\r\n",
        "\t\t\tplt.title(\"Training Loss and Accuracy [Epoch {}]\".format(\r\n",
        "\t\t\t\tlen(self.H[\"loss\"])))\r\n",
        "\t\t\tplt.xlabel(\"Epoch #\")\r\n",
        "\t\t\tplt.ylabel(\"Loss/Accuracy\")\r\n",
        "\t\t\tplt.legend()\r\n",
        "\r\n",
        "\t\t\t# save the figure\r\n",
        "\t\t\tplt.savefig(self.figPath)\r\n",
        "\t\t\tplt.close()"
      ],
      "execution_count": 45,
      "outputs": []
    },
    {
      "cell_type": "code",
      "metadata": {
        "id": "PUmMc265SZGD"
      },
      "source": [
        "# import the necessary packages\r\n",
        "from tensorflow.keras.utils import to_categorical\r\n",
        "import numpy as np\r\n",
        "import h5py\r\n",
        "\r\n",
        "class HDF5DatasetGenerator:\r\n",
        "\tdef __init__(self, dbPath, batchSize, preprocessors=None,\r\n",
        "\t\taug=None, binarize=True, classes=2):\r\n",
        "\t\t# store the batch size, preprocessors, and data augmentor,\r\n",
        "\t\t# whether or not the labels should be binarized, along with\r\n",
        "\t\t# the total number of classes\r\n",
        "\t\tself.batchSize = batchSize\r\n",
        "\t\tself.preprocessors = preprocessors\r\n",
        "\t\tself.aug = aug\r\n",
        "\t\tself.binarize = binarize\r\n",
        "\t\tself.classes = classes\r\n",
        "\r\n",
        "\t\t# open the HDF5 database for reading and determine the total\r\n",
        "\t\t# number of entries in the database\r\n",
        "\t\tself.db = h5py.File(dbPath, \"r\")\r\n",
        "\t\tself.numImages = self.db[\"labels\"].shape[0]\r\n",
        "\r\n",
        "\tdef generator(self, passes=np.inf):\r\n",
        "\t\t# initialize the epoch count\r\n",
        "\t\tepochs = 0\r\n",
        "\r\n",
        "\t\t# keep looping infinitely -- the model will stop once we have\r\n",
        "\t\t# reach the desired number of epochs\r\n",
        "\t\twhile epochs < passes:\r\n",
        "\t\t\t# loop over the HDF5 dataset\r\n",
        "\t\t\tfor i in np.arange(0, self.numImages, self.batchSize):\r\n",
        "\t\t\t\t# extract the images and labels from the HDF dataset\r\n",
        "\t\t\t\timages = self.db[\"images\"][i: i + self.batchSize]\r\n",
        "\t\t\t\tlabels = self.db[\"labels\"][i: i + self.batchSize]\r\n",
        "\r\n",
        "\t\t\t\t# check to see if the labels should be binarized\r\n",
        "\t\t\t\tif self.binarize:\r\n",
        "\t\t\t\t\tlabels = to_categorical(labels,\r\n",
        "\t\t\t\t\t\tself.classes)\r\n",
        "\r\n",
        "\t\t\t\t# check to see if our preprocessors are not None\r\n",
        "\t\t\t\tif self.preprocessors is not None:\r\n",
        "\t\t\t\t\t# initialize the list of processed images\r\n",
        "\t\t\t\t\tprocImages = []\r\n",
        "\r\n",
        "\t\t\t\t\t# loop over the images\r\n",
        "\t\t\t\t\tfor image in images:\r\n",
        "\t\t\t\t\t\t# loop over the preprocessors and apply each\r\n",
        "\t\t\t\t\t\t# to the image\r\n",
        "\t\t\t\t\t\tfor p in self.preprocessors:\r\n",
        "\t\t\t\t\t\t\timage = p.preprocess(image)\r\n",
        "\r\n",
        "\t\t\t\t\t\t# update the list of processed images\r\n",
        "\t\t\t\t\t\tprocImages.append(image)\r\n",
        "\r\n",
        "\t\t\t\t\t# update the images array to be the processed\r\n",
        "\t\t\t\t\t# images\r\n",
        "\t\t\t\t\timages = np.array(procImages)\r\n",
        "\r\n",
        "\t\t\t\t# if the data augmenator exists, apply it\r\n",
        "\t\t\t\tif self.aug is not None:\r\n",
        "\t\t\t\t\t(images, labels) = next(self.aug.flow(images,\r\n",
        "\t\t\t\t\t\tlabels, batch_size=self.batchSize))\r\n",
        "\r\n",
        "\t\t\t\t# yield a tuple of images and labels\r\n",
        "\t\t\t\tyield (images, labels)\r\n",
        "\r\n",
        "\t\t\t# increment the total number of epochs\r\n",
        "\t\t\tepochs += 1\r\n",
        "\r\n",
        "\tdef close(self):\r\n",
        "\t\t# close the database\r\n",
        "\t\tself.db.close()"
      ],
      "execution_count": 46,
      "outputs": []
    },
    {
      "cell_type": "code",
      "metadata": {
        "id": "YyakIqKySgk3"
      },
      "source": [
        "# import the necessary packages\r\n",
        "from tensorflow.keras.layers import BatchNormalization\r\n",
        "from tensorflow.keras.layers import Conv2D\r\n",
        "from tensorflow.keras.layers import AveragePooling2D\r\n",
        "from tensorflow.keras.layers import MaxPooling2D\r\n",
        "from tensorflow.keras.layers import ZeroPadding2D\r\n",
        "from tensorflow.keras.layers import Activation\r\n",
        "from tensorflow.keras.layers import Dense\r\n",
        "from tensorflow.keras.layers import Flatten\r\n",
        "from tensorflow.keras.layers import Input\r\n",
        "from tensorflow.keras.models import Model\r\n",
        "from tensorflow.keras.layers import add\r\n",
        "from tensorflow.keras.regularizers import l2\r\n",
        "from tensorflow.keras import backend as K\r\n",
        "\r\n",
        "class ResNet:\r\n",
        "\t@staticmethod\r\n",
        "\tdef residual_module(data, K, stride, chanDim, red=False,\r\n",
        "\t\treg=0.0001, bnEps=2e-5, bnMom=0.9):\r\n",
        "\t\t# the shortcut branch of the ResNet module should be\r\n",
        "\t\t# initialize as the input (identity) data\r\n",
        "\t\tshortcut = data\r\n",
        "\r\n",
        "\t\t# the first block of the ResNet module are the 1x1 CONVs\r\n",
        "\t\tbn1 = BatchNormalization(axis=chanDim, epsilon=bnEps,\r\n",
        "\t\t\tmomentum=bnMom)(data)\r\n",
        "\t\tact1 = Activation(\"relu\")(bn1)\r\n",
        "\t\tconv1 = Conv2D(int(K * 0.25), (1, 1), use_bias=False,\r\n",
        "\t\t\tkernel_regularizer=l2(reg))(act1)\r\n",
        "\r\n",
        "\t\t# the second block of the ResNet module are the 3x3 CONVs\r\n",
        "\t\tbn2 = BatchNormalization(axis=chanDim, epsilon=bnEps,\r\n",
        "\t\t\tmomentum=bnMom)(conv1)\r\n",
        "\t\tact2 = Activation(\"relu\")(bn2)\r\n",
        "\t\tconv2 = Conv2D(int(K * 0.25), (3, 3), strides=stride,\r\n",
        "\t\t\tpadding=\"same\", use_bias=False,\r\n",
        "\t\t\tkernel_regularizer=l2(reg))(act2)\r\n",
        "\r\n",
        "\t\t# the third block of the ResNet module is another set of 1x1\r\n",
        "\t\t# CONVs\r\n",
        "\t\tbn3 = BatchNormalization(axis=chanDim, epsilon=bnEps,\r\n",
        "\t\t\tmomentum=bnMom)(conv2)\r\n",
        "\t\tact3 = Activation(\"relu\")(bn3)\r\n",
        "\t\tconv3 = Conv2D(K, (1, 1), use_bias=False,\r\n",
        "\t\t\tkernel_regularizer=l2(reg))(act3)\r\n",
        "\r\n",
        "\t\t# if we are to reduce the spatial size, apply a CONV layer to\r\n",
        "\t\t# the shortcut\r\n",
        "\t\tif red:\r\n",
        "\t\t\tshortcut = Conv2D(K, (1, 1), strides=stride,\r\n",
        "\t\t\t\tuse_bias=False, kernel_regularizer=l2(reg))(act1)\r\n",
        "\r\n",
        "\t\t# add together the shortcut and the final CONV\r\n",
        "\t\tx = add([conv3, shortcut])\r\n",
        "\r\n",
        "\t\t# return the addition as the output of the ResNet module\r\n",
        "\t\treturn x\r\n",
        "\r\n",
        "\t@staticmethod\r\n",
        "\tdef build(width, height, depth, classes, stages, filters,\r\n",
        "\t\treg=0.0001, bnEps=2e-5, bnMom=0.9, dataset=\"cifar\"):\r\n",
        "\t\t# initialize the input shape to be \"channels last\" and the\r\n",
        "\t\t# channels dimension itself\r\n",
        "\t\tinputShape = (height, width, depth)\r\n",
        "\t\tchanDim = -1\r\n",
        "\r\n",
        "\t\t# if we are using \"channels first\", update the input shape\r\n",
        "\t\t# and channels dimension\r\n",
        "\t\tif K.image_data_format() == \"channels_first\":\r\n",
        "\t\t\tinputShape = (depth, height, width)\r\n",
        "\t\t\tchanDim = 1\r\n",
        "\r\n",
        "\t\t# set the input and apply BN\r\n",
        "\t\tinputs = Input(shape=inputShape)\r\n",
        "\t\tx = BatchNormalization(axis=chanDim, epsilon=bnEps,\r\n",
        "\t\t\tmomentum=bnMom)(inputs)\r\n",
        "\r\n",
        "\t\t# check if we are utilizing the CIFAR dataset\r\n",
        "\t\tif dataset == \"cifar\":\r\n",
        "\t\t\t# apply a single CONV layer\r\n",
        "\t\t\tx = Conv2D(filters[0], (3, 3), use_bias=False,\r\n",
        "\t\t\t\tpadding=\"same\", kernel_regularizer=l2(reg))(x)\r\n",
        "\r\n",
        "\t\t# check to see if we are using the Tiny ImageNet dataset\r\n",
        "\t\telif dataset == \"tiny_imagenet\":\r\n",
        "\t\t\t# apply CONV => BN => ACT => POOL to reduce spatial size\r\n",
        "\t\t\tx = Conv2D(filters[0], (5, 5), use_bias=False,\r\n",
        "\t\t\t\tpadding=\"same\", kernel_regularizer=l2(reg))(x)\r\n",
        "\t\t\tx = BatchNormalization(axis=chanDim, epsilon=bnEps,\r\n",
        "\t\t\t\tmomentum=bnMom)(x)\r\n",
        "\t\t\tx = Activation(\"relu\")(x)\r\n",
        "\t\t\tx = ZeroPadding2D((1, 1))(x)\r\n",
        "\t\t\tx = MaxPooling2D((3, 3), strides=(2, 2))(x)\r\n",
        "\r\n",
        "\t\t# loop over the number of stages\r\n",
        "\t\tfor i in range(0, len(stages)):\r\n",
        "\t\t\t# initialize the stride, then apply a residual module\r\n",
        "\t\t\t# used to reduce the spatial size of the input volume\r\n",
        "\t\t\tstride = (1, 1) if i == 0 else (2, 2)\r\n",
        "\t\t\tx = ResNet.residual_module(x, filters[i + 1], stride,\r\n",
        "\t\t\t\tchanDim, red=True, bnEps=bnEps, bnMom=bnMom)\r\n",
        "\r\n",
        "\t\t\t# loop over the number of layers in the stage\r\n",
        "\t\t\tfor j in range(0, stages[i] - 1):\r\n",
        "\t\t\t\t# apply a ResNet module\r\n",
        "\t\t\t\tx = ResNet.residual_module(x, filters[i + 1],\r\n",
        "\t\t\t\t\t(1, 1), chanDim, bnEps=bnEps, bnMom=bnMom)\r\n",
        "\r\n",
        "\t\t# apply BN => ACT => POOL\r\n",
        "\t\tx = BatchNormalization(axis=chanDim, epsilon=bnEps,\r\n",
        "\t\t\tmomentum=bnMom)(x)\r\n",
        "\t\tx = Activation(\"relu\")(x)\r\n",
        "\t\tx = AveragePooling2D((8, 8))(x)\r\n",
        "\r\n",
        "\t\t# softmax classifier\r\n",
        "\t\tx = Flatten()(x)\r\n",
        "\t\tx = Dense(classes, kernel_regularizer=l2(reg))(x)\r\n",
        "\t\tx = Activation(\"softmax\")(x)\r\n",
        "\r\n",
        "\t\t# create the model\r\n",
        "\t\tmodel = Model(inputs, x, name=\"resnet\")\r\n",
        "\r\n",
        "\t\t# return the constructed network architecture\r\n",
        "\t\treturn model"
      ],
      "execution_count": 47,
      "outputs": []
    },
    {
      "cell_type": "code",
      "metadata": {
        "id": "6Rx2XdeyT3Xj"
      },
      "source": [
        "# set a high recursion limit so Theano doesn't complain\r\n",
        "sys.setrecursionlimit(5000)"
      ],
      "execution_count": 48,
      "outputs": []
    },
    {
      "cell_type": "code",
      "metadata": {
        "id": "PSkCLUWsT6K2"
      },
      "source": [
        "# construct the training image generator for data augmentation\r\n",
        "aug = ImageDataGenerator(rotation_range=18, zoom_range=0.15,width_shift_range=0.2, height_shift_range=0.2, shear_range=0.15,horizontal_flip=True, fill_mode=\"nearest\")\r\n"
      ],
      "execution_count": 49,
      "outputs": []
    },
    {
      "cell_type": "code",
      "metadata": {
        "id": "t_wUR0gST8ml"
      },
      "source": [
        "# load the RGB means for the training set\r\n",
        "means = json.loads(open(DATASET_MEAN).read())"
      ],
      "execution_count": 50,
      "outputs": []
    },
    {
      "cell_type": "code",
      "metadata": {
        "id": "iPHfMk1aT-Gn"
      },
      "source": [
        "# initialize the image preprocessors\r\n",
        "sp = SimplePreprocessor(64, 64)\r\n",
        "mp = MeanPreprocessor(means[\"R\"], means[\"G\"], means[\"B\"])\r\n",
        "iap = ImageToArrayPreprocessor()"
      ],
      "execution_count": 51,
      "outputs": []
    },
    {
      "cell_type": "code",
      "metadata": {
        "id": "mrrymGQfUAHq"
      },
      "source": [
        "# initialize the training and validation dataset generators\r\n",
        "trainGen = HDF5DatasetGenerator(TRAIN_HDF5, 64, aug=aug,preprocessors=[sp, mp, iap], classes=NUM_CLASSES)\r\n",
        "valGen = HDF5DatasetGenerator(VAL_HDF5, 64,preprocessors=[sp, mp, iap], classes=NUM_CLASSES)"
      ],
      "execution_count": 52,
      "outputs": []
    },
    {
      "cell_type": "code",
      "metadata": {
        "colab": {
          "base_uri": "https://localhost:8080/"
        },
        "id": "pX85MQ22UDHi",
        "outputId": "7dd8c64d-86a5-4681-dd83-f6b68775af04"
      },
      "source": [
        "# if there is no specific model checkpoint supplied, then initialize\r\n",
        "# the network and compile the model\r\n",
        "#print(\"[INFO] compiling model...\")\r\n",
        "#model = ResNet.build(64, 64, 3, NUM_CLASSES, (3, 4, 6),(64, 128, 256, 512), reg=0.0005, dataset=\"tiny_imagenet\")\r\n",
        "#opt = SGD(lr=1e-1, momentum=0.9)\r\n",
        "#model.compile(loss=\"categorical_crossentropy\", optimizer=opt,metrics=[\"accuracy\"])\r\n",
        "\r\n",
        "# otherwise, load the checkpoint from disk\r\n",
        "#else:\r\n",
        "print(\"[INFO] loading {}...\".format(\"/content/drive/MyDrive/dataset/tiny-imagenet-200-hdf5/output/epoch_35.hdf5\"))\r\n",
        "model = load_model(\"/content/drive/MyDrive/dataset/tiny-imagenet-200-hdf5/output/epoch_35.hdf5\")\r\n",
        "\r\n",
        "# update the learning rate\r\n",
        "print(\"[INFO] old learning rate: {}\".format(K.get_value(model.optimizer.lr)))\r\n",
        "K.set_value(model.optimizer.lr, 1e-3)\r\n",
        "print(\"[INFO] new learning rate: {}\".format(K.get_value(model.optimizer.lr)))\r\n"
      ],
      "execution_count": 53,
      "outputs": [
        {
          "output_type": "stream",
          "text": [
            "[INFO] loading /content/drive/MyDrive/dataset/tiny-imagenet-200-hdf5/output/epoch_35.hdf5...\n",
            "[INFO] old learning rate: 0.009999999776482582\n",
            "[INFO] new learning rate: 0.0010000000474974513\n"
          ],
          "name": "stdout"
        }
      ]
    },
    {
      "cell_type": "code",
      "metadata": {
        "id": "UWmHwL9xU0OD"
      },
      "source": [
        "checkpoints=\"/content/drive/MyDrive/dataset/tiny-imagenet-200-hdf5/output\"\r\n",
        "start_epoch=35"
      ],
      "execution_count": 54,
      "outputs": []
    },
    {
      "cell_type": "code",
      "metadata": {
        "id": "069E40coUQ_W"
      },
      "source": [
        "# construct the set of callbacks\r\n",
        "callbacks = [EpochCheckpoint(checkpoints, every=5,\tstartAt=start_epoch),TrainingMonitor(FIG_PATH, jsonPath=JSON_PATH,startAt=start_epoch)]"
      ],
      "execution_count": 55,
      "outputs": []
    },
    {
      "cell_type": "code",
      "metadata": {
        "colab": {
          "base_uri": "https://localhost:8080/"
        },
        "id": "d4dkmsW_UYvm",
        "outputId": "71ea288f-39b0-454f-8ef7-c004ae4528d2"
      },
      "source": [
        "# train the network\r\n",
        "model.fit_generator(\r\n",
        "\ttrainGen.generator(),\r\n",
        "\tsteps_per_epoch=trainGen.numImages // 64,\r\n",
        "\tvalidation_data=valGen.generator(),\r\n",
        "\tvalidation_steps=valGen.numImages // 64,\r\n",
        "\tepochs=5,\r\n",
        "\tmax_queue_size=25,\r\n",
        "\tcallbacks=callbacks, verbose=1)"
      ],
      "execution_count": 56,
      "outputs": [
        {
          "output_type": "stream",
          "text": [
            "/usr/local/lib/python3.6/dist-packages/tensorflow/python/keras/engine/training.py:1844: UserWarning: `Model.fit_generator` is deprecated and will be removed in a future version. Please use `Model.fit`, which supports generators.\n",
            "  warnings.warn('`Model.fit_generator` is deprecated and '\n"
          ],
          "name": "stderr"
        },
        {
          "output_type": "stream",
          "text": [
            "Epoch 1/5\n",
            "1406/1406 [==============================] - 233s 165ms/step - loss: 2.1207 - accuracy: 0.6289 - val_loss: 3.0345 - val_accuracy: 0.4654\n",
            "Epoch 2/5\n",
            "1406/1406 [==============================] - 285s 203ms/step - loss: 2.0518 - accuracy: 0.6449 - val_loss: 2.9794 - val_accuracy: 0.4758\n",
            "Epoch 3/5\n",
            "1406/1406 [==============================] - 290s 206ms/step - loss: 2.0278 - accuracy: 0.6485 - val_loss: 2.9890 - val_accuracy: 0.4796\n",
            "Epoch 4/5\n",
            "1406/1406 [==============================] - 292s 208ms/step - loss: 2.0088 - accuracy: 0.6531 - val_loss: 2.9858 - val_accuracy: 0.4743\n",
            "Epoch 5/5\n",
            "1406/1406 [==============================] - 289s 206ms/step - loss: 1.9888 - accuracy: 0.6576 - val_loss: 2.9866 - val_accuracy: 0.4757\n"
          ],
          "name": "stdout"
        },
        {
          "output_type": "execute_result",
          "data": {
            "text/plain": [
              "<tensorflow.python.keras.callbacks.History at 0x7f205eba60b8>"
            ]
          },
          "metadata": {
            "tags": []
          },
          "execution_count": 56
        }
      ]
    },
    {
      "cell_type": "code",
      "metadata": {
        "id": "p7DMMEzFUbnI"
      },
      "source": [
        "# close the databases\r\n",
        "trainGen.close()\r\n",
        "valGen.close()"
      ],
      "execution_count": 57,
      "outputs": []
    },
    {
      "cell_type": "code",
      "metadata": {
        "id": "M65w6MsHHVwj"
      },
      "source": [
        ""
      ],
      "execution_count": null,
      "outputs": []
    },
    {
      "cell_type": "markdown",
      "metadata": {
        "id": "gStXmFP_HeOm"
      },
      "source": [
        "### TESTING  "
      ]
    },
    {
      "cell_type": "code",
      "metadata": {
        "id": "LPW-JN4fGhOG"
      },
      "source": [
        "# import the necessary packages\r\n",
        "import numpy as np\r\n",
        "\r\n",
        "def rank5_accuracy(preds, labels):\r\n",
        "\t# initialize the rank-1 and rank-5 accuracies\r\n",
        "\trank1 = 0\r\n",
        "\trank5 = 0\r\n",
        "\r\n",
        "\t# loop over the predictions and ground-truth labels\r\n",
        "\tfor (p, gt) in zip(preds, labels):\r\n",
        "\t\t# sort the probabilities by their index in descending\r\n",
        "\t\t# order so that the more confident guesses are at the\r\n",
        "\t\t# front of the list\r\n",
        "\t\tp = np.argsort(p)[::-1]\r\n",
        "\r\n",
        "\t\t# check if the ground-truth label is in the top-5\r\n",
        "\t\t# predictions\r\n",
        "\t\tif gt in p[:5]:\r\n",
        "\t\t\trank5 += 1\r\n",
        "\r\n",
        "\t\t# check to see if the ground-truth is the #1 prediction\r\n",
        "\t\tif gt == p[0]:\r\n",
        "\t\t\trank1 += 1\r\n",
        "\r\n",
        "\t# compute the final rank-1 and rank-5 accuracies\r\n",
        "\trank1 /= float(len(preds))\r\n",
        "\trank5 /= float(len(preds))\r\n",
        "\r\n",
        "\t# return a tuple of the rank-1 and rank-5 accuracies\r\n",
        "\treturn (rank1, rank5)"
      ],
      "execution_count": 58,
      "outputs": []
    },
    {
      "cell_type": "code",
      "metadata": {
        "id": "ErhgAZdAGj_j"
      },
      "source": [
        "\r\n",
        "# load the RGB means for the training set\r\n",
        "means = json.loads(open(DATASET_MEAN).read())"
      ],
      "execution_count": 59,
      "outputs": []
    },
    {
      "cell_type": "code",
      "metadata": {
        "id": "yznKIxkTGlqi"
      },
      "source": [
        "\r\n",
        "# initialize the image preprocessors\r\n",
        "sp = SimplePreprocessor(64, 64)\r\n",
        "mp = MeanPreprocessor(means[\"R\"], means[\"G\"], means[\"B\"])\r\n",
        "iap = ImageToArrayPreprocessor()"
      ],
      "execution_count": 60,
      "outputs": []
    },
    {
      "cell_type": "code",
      "metadata": {
        "id": "BIvmwS0vGod0"
      },
      "source": [
        "# initialize the testing dataset generator\r\n",
        "testGen = HDF5DatasetGenerator(\"/content/drive/MyDrive/dataset/tiny-imagenet-200-hdf5/test.hdf5\", 64,preprocessors=[sp, mp, iap], classes=NUM_CLASSES)"
      ],
      "execution_count": 61,
      "outputs": []
    },
    {
      "cell_type": "code",
      "metadata": {
        "colab": {
          "base_uri": "https://localhost:8080/"
        },
        "id": "dav2HUVtGqWi",
        "outputId": "bc24b418-ffd6-40c4-d6f1-52f308f56a82"
      },
      "source": [
        "# load the pre-trained network\r\n",
        "print(\"[INFO] loading model...\")\r\n",
        "model = load_model(\"/content/drive/MyDrive/dataset/tiny-imagenet-200-hdf5/output/epoch_40.hdf5\")"
      ],
      "execution_count": 62,
      "outputs": [
        {
          "output_type": "stream",
          "text": [
            "[INFO] loading model...\n"
          ],
          "name": "stdout"
        }
      ]
    },
    {
      "cell_type": "code",
      "metadata": {
        "colab": {
          "base_uri": "https://localhost:8080/"
        },
        "id": "ZxbN9t_YGsSl",
        "outputId": "aadd0f33-368d-4007-9deb-f3ba85f87f06"
      },
      "source": [
        "# make predictions on the testing data\r\n",
        "print(\"[INFO] predicting on test data...\")\r\n",
        "predictions = model.predict_generator(testGen.generator(),\tsteps=testGen.numImages // 64, max_queue_size=10)"
      ],
      "execution_count": 63,
      "outputs": [
        {
          "output_type": "stream",
          "text": [
            "[INFO] predicting on test data...\n"
          ],
          "name": "stdout"
        },
        {
          "output_type": "stream",
          "text": [
            "/usr/local/lib/python3.6/dist-packages/tensorflow/python/keras/engine/training.py:1905: UserWarning: `Model.predict_generator` is deprecated and will be removed in a future version. Please use `Model.predict`, which supports generators.\n",
            "  warnings.warn('`Model.predict_generator` is deprecated and '\n"
          ],
          "name": "stderr"
        }
      ]
    },
    {
      "cell_type": "code",
      "metadata": {
        "colab": {
          "base_uri": "https://localhost:8080/"
        },
        "id": "zQL64wiTGviI",
        "outputId": "324674e9-9103-4085-eca2-a029da579c3c"
      },
      "source": [
        "# compute the rank-1 and rank-5 accuracies\r\n",
        "(rank1, rank5) = rank5_accuracy(predictions, testGen.db[\"labels\"])\r\n",
        "print(\"[INFO] rank-1: {:.2f}%\".format(rank1 * 100))\r\n",
        "print(\"[INFO] rank-5: {:.2f}%\".format(rank5 * 100))"
      ],
      "execution_count": 64,
      "outputs": [
        {
          "output_type": "stream",
          "text": [
            "[INFO] rank-1: 48.11%\n",
            "[INFO] rank-5: 73.22%\n"
          ],
          "name": "stdout"
        }
      ]
    },
    {
      "cell_type": "code",
      "metadata": {
        "id": "aXTnGQJmGxJT"
      },
      "source": [
        "# close the database\r\n",
        "testGen.close()"
      ],
      "execution_count": 65,
      "outputs": []
    }
  ]
}