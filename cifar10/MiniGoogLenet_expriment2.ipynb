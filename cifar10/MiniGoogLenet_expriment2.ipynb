{
  "nbformat": 4,
  "nbformat_minor": 0,
  "metadata": {
    "colab": {
      "name": "MiniGoogLenet.ipynb",
      "provenance": [],
      "mount_file_id": "1dj1wgNF633EZXGEGZS6bXMTVHwZJJZJp",
      "authorship_tag": "ABX9TyMbq7lcOwYiotIDk8ZfvDda",
      "include_colab_link": true
    },
    "kernelspec": {
      "name": "python3",
      "display_name": "Python 3"
    },
    "accelerator": "GPU"
  },
  "cells": [
    {
      "cell_type": "markdown",
      "metadata": {
        "id": "view-in-github",
        "colab_type": "text"
      },
      "source": [
        "<a href=\"https://colab.research.google.com/github/sripraks/CNN/blob/main/cifar10/MiniGoogLenet_expriment2.ipynb\" target=\"_parent\"><img src=\"https://colab.research.google.com/assets/colab-badge.svg\" alt=\"Open In Colab\"/></a>"
      ]
    },
    {
      "cell_type": "code",
      "metadata": {
        "id": "F38O8PgreXfV"
      },
      "source": [
        "# import the necessary packages\r\n",
        "from tensorflow.keras.layers import BatchNormalization\r\n",
        "from tensorflow.keras.layers import Conv2D\r\n",
        "from tensorflow.keras.layers import AveragePooling2D\r\n",
        "from tensorflow.keras.layers import MaxPooling2D\r\n",
        "from tensorflow.keras.layers import Activation\r\n",
        "from tensorflow.keras.layers import Dropout\r\n",
        "from tensorflow.keras.layers import Dense\r\n",
        "from tensorflow.keras.layers import Flatten\r\n",
        "from tensorflow.keras.layers import Input\r\n",
        "from tensorflow.keras.models import Model\r\n",
        "from tensorflow.keras.layers import concatenate\r\n",
        "from tensorflow.keras import backend as K\r\n",
        "\r\n",
        "class MiniGoogLeNet:\r\n",
        "\t@staticmethod\r\n",
        "\tdef conv_module(x, K, kX, kY, stride, chanDim, padding=\"same\"):\r\n",
        "\t\t# define a CONV => BN => RELU pattern\r\n",
        "\t\tx = Conv2D(K, (kX, kY), strides=stride, padding=padding)(x)\r\n",
        "\t\tx = BatchNormalization(axis=chanDim)(x)\r\n",
        "\t\tx = Activation(\"relu\")(x)\r\n",
        "\r\n",
        "\t\t# return the block\r\n",
        "\t\treturn x\r\n",
        "\r\n",
        "\t@staticmethod\r\n",
        "\tdef inception_module(x, numK1x1, numK3x3, chanDim):\r\n",
        "\t\t# define two CONV modules, then concatenate across the\r\n",
        "\t\t# channel dimension\r\n",
        "\t\tconv_1x1 = MiniGoogLeNet.conv_module(x, numK1x1, 1, 1,\r\n",
        "\t\t\t(1, 1), chanDim)\r\n",
        "\t\tconv_3x3 = MiniGoogLeNet.conv_module(x, numK3x3, 3, 3,\r\n",
        "\t\t\t(1, 1), chanDim)\r\n",
        "\t\tx = concatenate([conv_1x1, conv_3x3], axis=chanDim)\r\n",
        "\r\n",
        "\t\t# return the block\r\n",
        "\t\treturn x\r\n",
        "\r\n",
        "\t@staticmethod\r\n",
        "\tdef downsample_module(x, K, chanDim):\r\n",
        "\t\t# define the CONV module and POOL, then concatenate\r\n",
        "\t\t# across the channel dimensions\r\n",
        "\t\tconv_3x3 = MiniGoogLeNet.conv_module(x, K, 3, 3, (2, 2),\r\n",
        "\t\t\tchanDim, padding=\"valid\")\r\n",
        "\t\tpool = MaxPooling2D((3, 3), strides=(2, 2))(x)\r\n",
        "\t\tx = concatenate([conv_3x3, pool], axis=chanDim)\r\n",
        "\r\n",
        "\t\t# return the block\r\n",
        "\t\treturn x\r\n",
        "\r\n",
        "\t@staticmethod\r\n",
        "\tdef build(width, height, depth, classes):\r\n",
        "\t\t# initialize the input shape to be \"channels last\" and the\r\n",
        "\t\t# channels dimension itself\r\n",
        "\t\tinputShape = (height, width, depth)\r\n",
        "\t\tchanDim = -1\r\n",
        "\r\n",
        "\t\t# if we are using \"channels first\", update the input shape\r\n",
        "\t\t# and channels dimension\r\n",
        "\t\tif K.image_data_format() == \"channels_first\":\r\n",
        "\t\t\tinputShape = (depth, height, width)\r\n",
        "\t\t\tchanDim = 1\r\n",
        "\r\n",
        "\t\t# define the model input and first CONV module\r\n",
        "\t\tinputs = Input(shape=inputShape)\r\n",
        "\t\tx = MiniGoogLeNet.conv_module(inputs, 96, 3, 3, (1, 1),\r\n",
        "\t\t\tchanDim)\r\n",
        "\r\n",
        "\t\t# two Inception modules followed by a downsample module\r\n",
        "\t\tx = MiniGoogLeNet.inception_module(x, 32, 32, chanDim)\r\n",
        "\t\tx = MiniGoogLeNet.inception_module(x, 32, 48, chanDim)\r\n",
        "\t\tx = MiniGoogLeNet.downsample_module(x, 80, chanDim)\r\n",
        "\r\n",
        "\t\t# four Inception modules followed by a downsample module\r\n",
        "\t\tx = MiniGoogLeNet.inception_module(x, 112, 48, chanDim)\r\n",
        "\t\tx = MiniGoogLeNet.inception_module(x, 96, 64, chanDim)\r\n",
        "\t\tx = MiniGoogLeNet.inception_module(x, 80, 80, chanDim)\r\n",
        "\t\tx = MiniGoogLeNet.inception_module(x, 48, 96, chanDim)\r\n",
        "\t\tx = MiniGoogLeNet.downsample_module(x, 96, chanDim)\r\n",
        "\r\n",
        "\t\t# two Inception modules followed by global POOL and dropout\r\n",
        "\t\tx = MiniGoogLeNet.inception_module(x, 176, 160, chanDim)\r\n",
        "\t\tx = MiniGoogLeNet.inception_module(x, 176, 160, chanDim)\r\n",
        "\t\tx = AveragePooling2D((7, 7))(x)\r\n",
        "\t\tx = Dropout(0.5)(x)\r\n",
        "\r\n",
        "\t\t# softmax classifier\r\n",
        "\t\tx = Flatten()(x)\r\n",
        "\t\tx = Dense(classes)(x)\r\n",
        "\t\tx = Activation(\"softmax\")(x)\r\n",
        "\r\n",
        "\t\t# create the model\r\n",
        "\t\tmodel = Model(inputs, x, name=\"googlenet\")\r\n",
        "\r\n",
        "\t\t# return the constructed network architecture\r\n",
        "\t\treturn model"
      ],
      "execution_count": 2,
      "outputs": []
    },
    {
      "cell_type": "code",
      "metadata": {
        "id": "6gVua4L6e5ym"
      },
      "source": [
        "# import the necessary packages\r\n",
        "from tensorflow.keras.callbacks import BaseLogger\r\n",
        "import matplotlib.pyplot as plt\r\n",
        "import numpy as np\r\n",
        "import json\r\n",
        "import os\r\n",
        "\r\n",
        "class TrainingMonitor(BaseLogger):\r\n",
        "\tdef __init__(self, figPath, jsonPath=None, startAt=0):\r\n",
        "\t\t# store the output path for the figure, the path to the JSON\r\n",
        "\t\t# serialized file, and the starting epoch\r\n",
        "\t\tsuper(TrainingMonitor, self).__init__()\r\n",
        "\t\tself.figPath = figPath\r\n",
        "\t\tself.jsonPath = jsonPath\r\n",
        "\t\tself.startAt = startAt\r\n",
        "\r\n",
        "\tdef on_train_begin(self, logs={}):\r\n",
        "\t\t# initialize the history dictionary\r\n",
        "\t\tself.H = {}\r\n",
        "\r\n",
        "\t\t# if the JSON history path exists, load the training history\r\n",
        "\t\tif self.jsonPath is not None:\r\n",
        "\t\t\tif os.path.exists(self.jsonPath):\r\n",
        "\t\t\t\tself.H = json.loads(open(self.jsonPath).read())\r\n",
        "\r\n",
        "\t\t\t\t# check to see if a starting epoch was supplied\r\n",
        "\t\t\t\tif self.startAt > 0:\r\n",
        "\t\t\t\t\t# loop over the entries in the history log and\r\n",
        "\t\t\t\t\t# trim any entries that are past the starting\r\n",
        "\t\t\t\t\t# epoch\r\n",
        "\t\t\t\t\tfor k in self.H.keys():\r\n",
        "\t\t\t\t\t\tself.H[k] = self.H[k][:self.startAt]\r\n",
        "\r\n",
        "\tdef on_epoch_end(self, epoch, logs={}):\r\n",
        "\t\t# loop over the logs and update the loss, accuracy, etc.\r\n",
        "\t\t# for the entire training process\r\n",
        "\t\tfor (k, v) in logs.items():\r\n",
        "\t\t\tl = self.H.get(k, [])\r\n",
        "\t\t\tl.append(float(v))\r\n",
        "\t\t\tself.H[k] = l\r\n",
        "\r\n",
        "\t\t# check to see if the training history should be serialized\r\n",
        "\t\t# to file\r\n",
        "\t\tif self.jsonPath is not None:\r\n",
        "\t\t\tf = open(self.jsonPath, \"w\")\r\n",
        "\t\t\tf.write(json.dumps(self.H))\r\n",
        "\t\t\tf.close()\r\n",
        "\r\n",
        "\t\t# ensure at least two epochs have passed before plotting\r\n",
        "\t\t# (epoch starts at zero)\r\n",
        "\t\tif len(self.H[\"loss\"]) > 1:\r\n",
        "\t\t\t# plot the training loss and accuracy\r\n",
        "\t\t\tN = np.arange(0, len(self.H[\"loss\"]))\r\n",
        "\t\t\tplt.style.use(\"ggplot\")\r\n",
        "\t\t\tplt.figure()\r\n",
        "\t\t\tplt.plot(N, self.H[\"loss\"], label=\"train_loss\")\r\n",
        "\t\t\tplt.plot(N, self.H[\"val_loss\"], label=\"val_loss\")\r\n",
        "\t\t\tplt.plot(N, self.H[\"accuracy\"], label=\"train_acc\")\r\n",
        "\t\t\tplt.plot(N, self.H[\"val_accuracy\"], label=\"val_acc\")\r\n",
        "\t\t\tplt.title(\"Training Loss and Accuracy [Epoch {}]\".format(\r\n",
        "\t\t\t\tlen(self.H[\"loss\"])))\r\n",
        "\t\t\tplt.xlabel(\"Epoch #\")\r\n",
        "\t\t\tplt.ylabel(\"Loss/Accuracy\")\r\n",
        "\t\t\tplt.legend()\r\n",
        "\r\n",
        "\t\t\t# save the figure\r\n",
        "\t\t\tplt.savefig(self.figPath)\r\n",
        "\t\t\tplt.close()"
      ],
      "execution_count": 3,
      "outputs": []
    },
    {
      "cell_type": "code",
      "metadata": {
        "id": "kpcGw3FEeuso"
      },
      "source": [
        "# import the necessary packages\r\n",
        "from sklearn.preprocessing import LabelBinarizer\r\n",
        "from tensorflow.keras.preprocessing.image import ImageDataGenerator\r\n",
        "from tensorflow.keras.callbacks import LearningRateScheduler\r\n",
        "from tensorflow.keras.optimizers import SGD\r\n",
        "from tensorflow.keras.datasets import cifar10\r\n",
        "import numpy as np\r\n",
        "import argparse\r\n",
        "import os"
      ],
      "execution_count": 4,
      "outputs": []
    },
    {
      "cell_type": "code",
      "metadata": {
        "id": "YbsqWySaeoaG"
      },
      "source": [
        "# set the matplotlib backend so figures can be saved in the background\r\n",
        "import matplotlib\r\n",
        "matplotlib.use(\"Agg\")"
      ],
      "execution_count": 5,
      "outputs": []
    },
    {
      "cell_type": "code",
      "metadata": {
        "id": "PNycW6lceruW"
      },
      "source": [
        "# definine the total number of epochs to train for along with the\r\n",
        "# initial learning rate\r\n",
        "NUM_EPOCHS = 70\r\n",
        "INIT_LR = 1e-2"
      ],
      "execution_count": 6,
      "outputs": []
    },
    {
      "cell_type": "code",
      "metadata": {
        "id": "elmgLY8UesaG"
      },
      "source": [
        "def poly_decay(epoch):\r\n",
        "\t# initialize the maximum number of epochs, base learning rate,\r\n",
        "\t# and power of the polynomial\r\n",
        "\tmaxEpochs = NUM_EPOCHS\r\n",
        "\tbaseLR = INIT_LR\r\n",
        "\tpower = 1.0\r\n",
        "\r\n",
        "\t# compute the new learning rate based on polynomial decay\r\n",
        "\talpha = baseLR * (1 - (epoch / float(maxEpochs))) ** power\r\n",
        "\r\n",
        "\t# return the new learning rate\r\n",
        "\treturn alpha"
      ],
      "execution_count": 7,
      "outputs": []
    },
    {
      "cell_type": "code",
      "metadata": {
        "colab": {
          "base_uri": "https://localhost:8080/"
        },
        "id": "PBvUUGjEfCfq",
        "outputId": "52356f15-5e15-4cef-bcf0-37059de677d7"
      },
      "source": [
        "# load the training and testing data, converting the images from\r\n",
        "# integers to floats\r\n",
        "print(\"[INFO] loading CIFAR-10 data...\")\r\n",
        "((trainX, trainY), (testX, testY)) = cifar10.load_data()\r\n",
        "trainX = trainX.astype(\"float\")\r\n",
        "testX = testX.astype(\"float\")"
      ],
      "execution_count": 8,
      "outputs": [
        {
          "output_type": "stream",
          "text": [
            "[INFO] loading CIFAR-10 data...\n"
          ],
          "name": "stdout"
        }
      ]
    },
    {
      "cell_type": "code",
      "metadata": {
        "id": "28yfuniHfLi7"
      },
      "source": [
        "# apply mean subtraction to the data\r\n",
        "mean = np.mean(trainX, axis=0)\r\n",
        "trainX -= mean\r\n",
        "testX -= mean"
      ],
      "execution_count": 9,
      "outputs": []
    },
    {
      "cell_type": "code",
      "metadata": {
        "id": "gUnpOoz_fNno"
      },
      "source": [
        "# convert the labels from integers to vectors\r\n",
        "lb = LabelBinarizer()\r\n",
        "trainY = lb.fit_transform(trainY)\r\n",
        "testY = lb.transform(testY)"
      ],
      "execution_count": 10,
      "outputs": []
    },
    {
      "cell_type": "code",
      "metadata": {
        "id": "D8MPnl6bfP2p"
      },
      "source": [
        "# construct the image generator for data augmentation\r\n",
        "aug = ImageDataGenerator(width_shift_range=0.1,\r\n",
        "\theight_shift_range=0.1, horizontal_flip=True,\r\n",
        "\tfill_mode=\"nearest\")"
      ],
      "execution_count": 11,
      "outputs": []
    },
    {
      "cell_type": "code",
      "metadata": {
        "id": "fhSOD7XofYs3"
      },
      "source": [
        "# construct the set of callbacks\r\n",
        "figPath = os.path.sep.join([\"/content/sample_data/output\", \"{}.png\".format(os.getpid())])\r\n",
        "jsonPath = os.path.sep.join([\"/content/sample_data/output\", \"{}.json\".format(os.getpid())])\r\n",
        "\r\n",
        "callbacks = [TrainingMonitor(figPath, jsonPath=jsonPath),LearningRateScheduler(poly_decay)]"
      ],
      "execution_count": 12,
      "outputs": []
    },
    {
      "cell_type": "code",
      "metadata": {
        "colab": {
          "base_uri": "https://localhost:8080/"
        },
        "id": "PfpsKDfbfarX",
        "outputId": "76695bc7-0038-434f-f172-af9d63bcb734"
      },
      "source": [
        "# initialize the optimizer and model\r\n",
        "print(\"[INFO] compiling model...\")\r\n",
        "opt = SGD(lr=INIT_LR, momentum=0.9)\r\n",
        "model = MiniGoogLeNet.build(width=32, height=32, depth=3, classes=10)\r\n",
        "model.compile(loss=\"categorical_crossentropy\", optimizer=opt,\tmetrics=[\"accuracy\"])"
      ],
      "execution_count": 13,
      "outputs": [
        {
          "output_type": "stream",
          "text": [
            "[INFO] compiling model...\n"
          ],
          "name": "stdout"
        }
      ]
    },
    {
      "cell_type": "code",
      "metadata": {
        "colab": {
          "base_uri": "https://localhost:8080/"
        },
        "id": "Yy6Jg6psfdU5",
        "outputId": "5a1ad97d-72f9-4f47-92ea-5435f372feb4"
      },
      "source": [
        "# train the network\r\n",
        "print(\"[INFO] training network...\")\r\n",
        "model.fit_generator(aug.flow(trainX, trainY, batch_size=64),validation_data=(testX, testY), steps_per_epoch=len(trainX) // 64,epochs=NUM_EPOCHS, callbacks=callbacks, verbose=1)"
      ],
      "execution_count": 14,
      "outputs": [
        {
          "output_type": "stream",
          "text": [
            "[INFO] training network...\n",
            "WARNING:tensorflow:From <ipython-input-14-35c7be4d18f6>:3: Model.fit_generator (from tensorflow.python.keras.engine.training) is deprecated and will be removed in a future version.\n",
            "Instructions for updating:\n",
            "Please use Model.fit, which supports generators.\n",
            "Epoch 1/70\n",
            "781/781 [==============================] - 39s 49ms/step - loss: 1.4469 - accuracy: 0.4730 - val_loss: 1.1833 - val_accuracy: 0.5762\n",
            "Epoch 2/70\n",
            "781/781 [==============================] - 38s 49ms/step - loss: 1.0157 - accuracy: 0.6374 - val_loss: 0.9735 - val_accuracy: 0.6585\n",
            "Epoch 3/70\n",
            "781/781 [==============================] - 38s 49ms/step - loss: 0.8319 - accuracy: 0.7090 - val_loss: 1.0847 - val_accuracy: 0.6648\n",
            "Epoch 4/70\n",
            "781/781 [==============================] - 38s 49ms/step - loss: 0.7190 - accuracy: 0.7523 - val_loss: 0.7455 - val_accuracy: 0.7404\n",
            "Epoch 5/70\n",
            "781/781 [==============================] - 38s 49ms/step - loss: 0.6399 - accuracy: 0.7776 - val_loss: 0.6992 - val_accuracy: 0.7659\n",
            "Epoch 6/70\n",
            "781/781 [==============================] - 39s 49ms/step - loss: 0.5862 - accuracy: 0.8001 - val_loss: 0.6716 - val_accuracy: 0.7810\n",
            "Epoch 7/70\n",
            "781/781 [==============================] - 38s 49ms/step - loss: 0.5378 - accuracy: 0.8167 - val_loss: 0.6379 - val_accuracy: 0.7826\n",
            "Epoch 8/70\n",
            "781/781 [==============================] - 39s 50ms/step - loss: 0.4994 - accuracy: 0.8289 - val_loss: 0.6824 - val_accuracy: 0.7819\n",
            "Epoch 9/70\n",
            "781/781 [==============================] - 38s 49ms/step - loss: 0.4633 - accuracy: 0.8426 - val_loss: 0.7415 - val_accuracy: 0.7594\n",
            "Epoch 10/70\n",
            "781/781 [==============================] - 38s 49ms/step - loss: 0.4346 - accuracy: 0.8523 - val_loss: 0.5126 - val_accuracy: 0.8261\n",
            "Epoch 11/70\n",
            "781/781 [==============================] - 38s 49ms/step - loss: 0.4084 - accuracy: 0.8606 - val_loss: 0.6925 - val_accuracy: 0.7933\n",
            "Epoch 12/70\n",
            "781/781 [==============================] - 38s 49ms/step - loss: 0.3870 - accuracy: 0.8679 - val_loss: 0.4779 - val_accuracy: 0.8355\n",
            "Epoch 13/70\n",
            "781/781 [==============================] - 38s 49ms/step - loss: 0.3684 - accuracy: 0.8743 - val_loss: 0.5467 - val_accuracy: 0.8250\n",
            "Epoch 14/70\n",
            "781/781 [==============================] - 38s 49ms/step - loss: 0.3466 - accuracy: 0.8822 - val_loss: 0.4991 - val_accuracy: 0.8355\n",
            "Epoch 15/70\n",
            "781/781 [==============================] - 38s 49ms/step - loss: 0.3278 - accuracy: 0.8868 - val_loss: 0.5934 - val_accuracy: 0.8219\n",
            "Epoch 16/70\n",
            "781/781 [==============================] - 39s 50ms/step - loss: 0.3148 - accuracy: 0.8914 - val_loss: 0.4578 - val_accuracy: 0.8505\n",
            "Epoch 17/70\n",
            "781/781 [==============================] - 38s 49ms/step - loss: 0.2971 - accuracy: 0.8968 - val_loss: 0.5790 - val_accuracy: 0.8209\n",
            "Epoch 18/70\n",
            "781/781 [==============================] - 38s 49ms/step - loss: 0.2842 - accuracy: 0.9032 - val_loss: 0.7021 - val_accuracy: 0.8010\n",
            "Epoch 19/70\n",
            "781/781 [==============================] - 38s 49ms/step - loss: 0.2726 - accuracy: 0.9061 - val_loss: 0.4335 - val_accuracy: 0.8632\n",
            "Epoch 20/70\n",
            "781/781 [==============================] - 38s 48ms/step - loss: 0.2615 - accuracy: 0.9095 - val_loss: 0.4795 - val_accuracy: 0.8496\n",
            "Epoch 21/70\n",
            "781/781 [==============================] - 38s 48ms/step - loss: 0.2457 - accuracy: 0.9152 - val_loss: 0.5132 - val_accuracy: 0.8478\n",
            "Epoch 22/70\n",
            "781/781 [==============================] - 38s 48ms/step - loss: 0.2382 - accuracy: 0.9172 - val_loss: 0.4206 - val_accuracy: 0.8667\n",
            "Epoch 23/70\n",
            "781/781 [==============================] - 38s 48ms/step - loss: 0.2258 - accuracy: 0.9219 - val_loss: 0.4850 - val_accuracy: 0.8552\n",
            "Epoch 24/70\n",
            "781/781 [==============================] - 38s 49ms/step - loss: 0.2154 - accuracy: 0.9249 - val_loss: 0.3850 - val_accuracy: 0.8763\n",
            "Epoch 25/70\n",
            "781/781 [==============================] - 38s 48ms/step - loss: 0.2063 - accuracy: 0.9283 - val_loss: 0.4969 - val_accuracy: 0.8635\n",
            "Epoch 26/70\n",
            "781/781 [==============================] - 38s 49ms/step - loss: 0.1992 - accuracy: 0.9308 - val_loss: 0.5384 - val_accuracy: 0.8442\n",
            "Epoch 27/70\n",
            "781/781 [==============================] - 38s 49ms/step - loss: 0.1915 - accuracy: 0.9324 - val_loss: 0.4324 - val_accuracy: 0.8664\n",
            "Epoch 28/70\n",
            "781/781 [==============================] - 38s 48ms/step - loss: 0.1816 - accuracy: 0.9373 - val_loss: 0.4459 - val_accuracy: 0.8658\n",
            "Epoch 29/70\n",
            "781/781 [==============================] - 38s 49ms/step - loss: 0.1744 - accuracy: 0.9397 - val_loss: 0.5035 - val_accuracy: 0.8556\n",
            "Epoch 30/70\n",
            "781/781 [==============================] - 38s 48ms/step - loss: 0.1672 - accuracy: 0.9434 - val_loss: 0.4616 - val_accuracy: 0.8607\n",
            "Epoch 31/70\n",
            "781/781 [==============================] - 38s 48ms/step - loss: 0.1608 - accuracy: 0.9433 - val_loss: 0.5982 - val_accuracy: 0.8404\n",
            "Epoch 32/70\n",
            "781/781 [==============================] - 38s 48ms/step - loss: 0.1495 - accuracy: 0.9466 - val_loss: 0.5277 - val_accuracy: 0.8589\n",
            "Epoch 33/70\n",
            "781/781 [==============================] - 38s 49ms/step - loss: 0.1537 - accuracy: 0.9462 - val_loss: 0.4129 - val_accuracy: 0.8853\n",
            "Epoch 34/70\n",
            "781/781 [==============================] - 38s 49ms/step - loss: 0.1453 - accuracy: 0.9500 - val_loss: 0.4294 - val_accuracy: 0.8777\n",
            "Epoch 35/70\n",
            "781/781 [==============================] - 38s 48ms/step - loss: 0.1363 - accuracy: 0.9522 - val_loss: 0.3920 - val_accuracy: 0.8898\n",
            "Epoch 36/70\n",
            "781/781 [==============================] - 38s 49ms/step - loss: 0.1289 - accuracy: 0.9549 - val_loss: 0.4023 - val_accuracy: 0.8814\n",
            "Epoch 37/70\n",
            "781/781 [==============================] - 38s 49ms/step - loss: 0.1193 - accuracy: 0.9583 - val_loss: 0.4415 - val_accuracy: 0.8779\n",
            "Epoch 38/70\n",
            "781/781 [==============================] - 38s 49ms/step - loss: 0.1226 - accuracy: 0.9579 - val_loss: 0.4653 - val_accuracy: 0.8781\n",
            "Epoch 39/70\n",
            "781/781 [==============================] - 38s 48ms/step - loss: 0.1129 - accuracy: 0.9612 - val_loss: 0.4403 - val_accuracy: 0.8766\n",
            "Epoch 40/70\n",
            "781/781 [==============================] - 38s 49ms/step - loss: 0.1095 - accuracy: 0.9616 - val_loss: 0.4377 - val_accuracy: 0.8803\n",
            "Epoch 41/70\n",
            "781/781 [==============================] - 39s 50ms/step - loss: 0.1029 - accuracy: 0.9641 - val_loss: 0.3944 - val_accuracy: 0.8899\n",
            "Epoch 42/70\n",
            "781/781 [==============================] - 38s 49ms/step - loss: 0.0967 - accuracy: 0.9664 - val_loss: 0.4454 - val_accuracy: 0.8811\n",
            "Epoch 43/70\n",
            "781/781 [==============================] - 38s 49ms/step - loss: 0.0950 - accuracy: 0.9677 - val_loss: 0.4038 - val_accuracy: 0.8908\n",
            "Epoch 44/70\n",
            "781/781 [==============================] - 38s 49ms/step - loss: 0.0910 - accuracy: 0.9684 - val_loss: 0.3825 - val_accuracy: 0.8937\n",
            "Epoch 45/70\n",
            "781/781 [==============================] - 38s 49ms/step - loss: 0.0877 - accuracy: 0.9703 - val_loss: 0.4025 - val_accuracy: 0.8911\n",
            "Epoch 46/70\n",
            "781/781 [==============================] - 38s 49ms/step - loss: 0.0836 - accuracy: 0.9708 - val_loss: 0.4354 - val_accuracy: 0.8858\n",
            "Epoch 47/70\n",
            "781/781 [==============================] - 38s 49ms/step - loss: 0.0789 - accuracy: 0.9726 - val_loss: 0.4427 - val_accuracy: 0.8890\n",
            "Epoch 48/70\n",
            "781/781 [==============================] - 38s 49ms/step - loss: 0.0762 - accuracy: 0.9742 - val_loss: 0.4300 - val_accuracy: 0.8896\n",
            "Epoch 49/70\n",
            "781/781 [==============================] - 38s 49ms/step - loss: 0.0692 - accuracy: 0.9768 - val_loss: 0.3994 - val_accuracy: 0.8971\n",
            "Epoch 50/70\n",
            "781/781 [==============================] - 38s 49ms/step - loss: 0.0682 - accuracy: 0.9771 - val_loss: 0.3717 - val_accuracy: 0.8988\n",
            "Epoch 51/70\n",
            "781/781 [==============================] - 38s 48ms/step - loss: 0.0670 - accuracy: 0.9770 - val_loss: 0.3988 - val_accuracy: 0.8945\n",
            "Epoch 52/70\n",
            "781/781 [==============================] - 38s 49ms/step - loss: 0.0603 - accuracy: 0.9800 - val_loss: 0.3832 - val_accuracy: 0.8987\n",
            "Epoch 53/70\n",
            "781/781 [==============================] - 38s 48ms/step - loss: 0.0597 - accuracy: 0.9798 - val_loss: 0.3938 - val_accuracy: 0.9002\n",
            "Epoch 54/70\n",
            "781/781 [==============================] - 38s 48ms/step - loss: 0.0559 - accuracy: 0.9819 - val_loss: 0.3816 - val_accuracy: 0.9046\n",
            "Epoch 55/70\n",
            "781/781 [==============================] - 38s 49ms/step - loss: 0.0515 - accuracy: 0.9830 - val_loss: 0.4117 - val_accuracy: 0.8998\n",
            "Epoch 56/70\n",
            "781/781 [==============================] - 38s 49ms/step - loss: 0.0492 - accuracy: 0.9840 - val_loss: 0.4218 - val_accuracy: 0.8990\n",
            "Epoch 57/70\n",
            "781/781 [==============================] - 38s 49ms/step - loss: 0.0496 - accuracy: 0.9831 - val_loss: 0.3709 - val_accuracy: 0.9030\n",
            "Epoch 58/70\n",
            "781/781 [==============================] - 38s 49ms/step - loss: 0.0464 - accuracy: 0.9848 - val_loss: 0.3934 - val_accuracy: 0.9032\n",
            "Epoch 59/70\n",
            "781/781 [==============================] - 38s 48ms/step - loss: 0.0456 - accuracy: 0.9852 - val_loss: 0.3804 - val_accuracy: 0.9056\n",
            "Epoch 60/70\n",
            "781/781 [==============================] - 38s 49ms/step - loss: 0.0444 - accuracy: 0.9853 - val_loss: 0.3728 - val_accuracy: 0.9052\n",
            "Epoch 61/70\n",
            "781/781 [==============================] - 38s 49ms/step - loss: 0.0424 - accuracy: 0.9860 - val_loss: 0.3951 - val_accuracy: 0.9048\n",
            "Epoch 62/70\n",
            "781/781 [==============================] - 38s 49ms/step - loss: 0.0382 - accuracy: 0.9871 - val_loss: 0.3769 - val_accuracy: 0.9065\n",
            "Epoch 63/70\n",
            "781/781 [==============================] - 37s 48ms/step - loss: 0.0384 - accuracy: 0.9872 - val_loss: 0.3893 - val_accuracy: 0.9028\n",
            "Epoch 64/70\n",
            "781/781 [==============================] - 38s 48ms/step - loss: 0.0372 - accuracy: 0.9890 - val_loss: 0.3702 - val_accuracy: 0.9062\n",
            "Epoch 65/70\n",
            "781/781 [==============================] - 38s 49ms/step - loss: 0.0352 - accuracy: 0.9887 - val_loss: 0.3674 - val_accuracy: 0.9073\n",
            "Epoch 66/70\n",
            "781/781 [==============================] - 39s 50ms/step - loss: 0.0323 - accuracy: 0.9901 - val_loss: 0.3711 - val_accuracy: 0.9075\n",
            "Epoch 67/70\n",
            "781/781 [==============================] - 38s 48ms/step - loss: 0.0334 - accuracy: 0.9898 - val_loss: 0.3631 - val_accuracy: 0.9071\n",
            "Epoch 68/70\n",
            "781/781 [==============================] - 38s 48ms/step - loss: 0.0302 - accuracy: 0.9908 - val_loss: 0.3724 - val_accuracy: 0.9088\n",
            "Epoch 69/70\n",
            "781/781 [==============================] - 38s 48ms/step - loss: 0.0306 - accuracy: 0.9905 - val_loss: 0.3661 - val_accuracy: 0.9088\n",
            "Epoch 70/70\n",
            "781/781 [==============================] - 38s 49ms/step - loss: 0.0295 - accuracy: 0.9913 - val_loss: 0.3701 - val_accuracy: 0.9083\n"
          ],
          "name": "stdout"
        },
        {
          "output_type": "execute_result",
          "data": {
            "text/plain": [
              "<tensorflow.python.keras.callbacks.History at 0x7fad702e8668>"
            ]
          },
          "metadata": {
            "tags": []
          },
          "execution_count": 14
        }
      ]
    },
    {
      "cell_type": "code",
      "metadata": {
        "id": "kBR2YSKOff2m"
      },
      "source": [
        "# save the network to disk\r\n",
        "print(\"[INFO] serializing network...\")\r\n",
        "model.save(\"/content/sample_data/output/minigooglenet_cifar10.hdf5\")"
      ],
      "execution_count": null,
      "outputs": []
    },
    {
      "cell_type": "markdown",
      "metadata": {
        "id": "mOzmFTWUhuNt"
      },
      "source": [
        ""
      ]
    }
  ]
}