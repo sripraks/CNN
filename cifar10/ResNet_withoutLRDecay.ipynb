{
  "nbformat": 4,
  "nbformat_minor": 0,
  "metadata": {
    "colab": {
      "name": "Untitled5.ipynb",
      "provenance": [],
      "mount_file_id": "1_ueqYaHmMpeZWZAnlA1ABR8SXPu09USW",
      "authorship_tag": "ABX9TyN8oH4BIr/EvB0owtqtpMbp",
      "include_colab_link": true
    },
    "kernelspec": {
      "name": "python3",
      "display_name": "Python 3"
    },
    "accelerator": "GPU"
  },
  "cells": [
    {
      "cell_type": "markdown",
      "metadata": {
        "id": "view-in-github",
        "colab_type": "text"
      },
      "source": [
        "<a href=\"https://colab.research.google.com/github/sripraks/CNN/blob/main/cifar10/ResNet_withoutLRDecay.ipynb\" target=\"_parent\"><img src=\"https://colab.research.google.com/assets/colab-badge.svg\" alt=\"Open In Colab\"/></a>"
      ]
    },
    {
      "cell_type": "code",
      "metadata": {
        "id": "M1nnpXyPtivv"
      },
      "source": [
        "import matplotlib\r\n",
        "matplotlib.use(\"Agg\")\r\n",
        "\r\n",
        "# import the necessary packages\r\n",
        "from sklearn.preprocessing import LabelBinarizer\r\n",
        "from tensorflow.keras.preprocessing.image import ImageDataGenerator\r\n",
        "from tensorflow.keras.optimizers import SGD\r\n",
        "from tensorflow.keras.datasets import cifar10\r\n",
        "from tensorflow.keras.models import load_model\r\n",
        "import tensorflow.keras.backend as K\r\n",
        "import numpy as np\r\n",
        "import argparse\r\n",
        "import sys\r\n"
      ],
      "execution_count": 29,
      "outputs": []
    },
    {
      "cell_type": "code",
      "metadata": {
        "id": "zpxnK4bwtzKn"
      },
      "source": [
        "# import the necessary packages\r\n",
        "from tensorflow.keras.layers import BatchNormalization\r\n",
        "from tensorflow.keras.layers import Conv2D\r\n",
        "from tensorflow.keras.layers import AveragePooling2D\r\n",
        "from tensorflow.keras.layers import MaxPooling2D\r\n",
        "from tensorflow.keras.layers import ZeroPadding2D\r\n",
        "from tensorflow.keras.layers import Activation\r\n",
        "from tensorflow.keras.layers import Dense\r\n",
        "from tensorflow.keras.layers import Flatten\r\n",
        "from tensorflow.keras.layers import Input\r\n",
        "from tensorflow.keras.models import Model\r\n",
        "from tensorflow.keras.layers import add\r\n",
        "from tensorflow.keras.regularizers import l2\r\n",
        "from tensorflow.keras import backend as K\r\n",
        "\r\n",
        "class ResNet:\r\n",
        "\t@staticmethod\r\n",
        "\tdef residual_module(data, K, stride, chanDim, red=False,\r\n",
        "\t\treg=0.0001, bnEps=2e-5, bnMom=0.9):\r\n",
        "\t\t# the shortcut branch of the ResNet module should be\r\n",
        "\t\t# initialize as the input (identity) data\r\n",
        "\t\tshortcut = data\r\n",
        "\r\n",
        "\t\t# the first block of the ResNet module are the 1x1 CONVs\r\n",
        "\t\tbn1 = BatchNormalization(axis=chanDim, epsilon=bnEps,\r\n",
        "\t\t\tmomentum=bnMom)(data)\r\n",
        "\t\tact1 = Activation(\"relu\")(bn1)\r\n",
        "\t\tconv1 = Conv2D(int(K * 0.25), (1, 1), use_bias=False,\r\n",
        "\t\t\tkernel_regularizer=l2(reg))(act1)\r\n",
        "\r\n",
        "\t\t# the second block of the ResNet module are the 3x3 CONVs\r\n",
        "\t\tbn2 = BatchNormalization(axis=chanDim, epsilon=bnEps,\r\n",
        "\t\t\tmomentum=bnMom)(conv1)\r\n",
        "\t\tact2 = Activation(\"relu\")(bn2)\r\n",
        "\t\tconv2 = Conv2D(int(K * 0.25), (3, 3), strides=stride,\r\n",
        "\t\t\tpadding=\"same\", use_bias=False,\r\n",
        "\t\t\tkernel_regularizer=l2(reg))(act2)\r\n",
        "\r\n",
        "\t\t# the third block of the ResNet module is another set of 1x1\r\n",
        "\t\t# CONVs\r\n",
        "\t\tbn3 = BatchNormalization(axis=chanDim, epsilon=bnEps,\r\n",
        "\t\t\tmomentum=bnMom)(conv2)\r\n",
        "\t\tact3 = Activation(\"relu\")(bn3)\r\n",
        "\t\tconv3 = Conv2D(K, (1, 1), use_bias=False,\r\n",
        "\t\t\tkernel_regularizer=l2(reg))(act3)\r\n",
        "\r\n",
        "\t\t# if we are to reduce the spatial size, apply a CONV layer to\r\n",
        "\t\t# the shortcut\r\n",
        "\t\tif red:\r\n",
        "\t\t\tshortcut = Conv2D(K, (1, 1), strides=stride,\r\n",
        "\t\t\t\tuse_bias=False, kernel_regularizer=l2(reg))(act1)\r\n",
        "\r\n",
        "\t\t# add together the shortcut and the final CONV\r\n",
        "\t\tx = add([conv3, shortcut])\r\n",
        "\r\n",
        "\t\t# return the addition as the output of the ResNet module\r\n",
        "\t\treturn x\r\n",
        "\r\n",
        "\t@staticmethod\r\n",
        "\tdef build(width, height, depth, classes, stages, filters,\r\n",
        "\t\treg=0.0001, bnEps=2e-5, bnMom=0.9, dataset=\"cifar\"):\r\n",
        "\t\t# initialize the input shape to be \"channels last\" and the\r\n",
        "\t\t# channels dimension itself\r\n",
        "\t\tinputShape = (height, width, depth)\r\n",
        "\t\tchanDim = -1\r\n",
        "\r\n",
        "\t\t# if we are using \"channels first\", update the input shape\r\n",
        "\t\t# and channels dimension\r\n",
        "\t\tif K.image_data_format() == \"channels_first\":\r\n",
        "\t\t\tinputShape = (depth, height, width)\r\n",
        "\t\t\tchanDim = 1\r\n",
        "\r\n",
        "\t\t# set the input and apply BN\r\n",
        "\t\tinputs = Input(shape=inputShape)\r\n",
        "\t\tx = BatchNormalization(axis=chanDim, epsilon=bnEps,\r\n",
        "\t\t\tmomentum=bnMom)(inputs)\r\n",
        "\r\n",
        "\t\t# check if we are utilizing the CIFAR dataset\r\n",
        "\t\tif dataset == \"cifar\":\r\n",
        "\t\t\t# apply a single CONV layer\r\n",
        "\t\t\tx = Conv2D(filters[0], (3, 3), use_bias=False,\r\n",
        "\t\t\t\tpadding=\"same\", kernel_regularizer=l2(reg))(x)\r\n",
        "\r\n",
        "\t\t# check to see if we are using the Tiny ImageNet dataset\r\n",
        "\t\telif dataset == \"tiny_imagenet\":\r\n",
        "\t\t\t# apply CONV => BN => ACT => POOL to reduce spatial size\r\n",
        "\t\t\tx = Conv2D(filters[0], (5, 5), use_bias=False,\r\n",
        "\t\t\t\tpadding=\"same\", kernel_regularizer=l2(reg))(x)\r\n",
        "\t\t\tx = BatchNormalization(axis=chanDim, epsilon=bnEps,\r\n",
        "\t\t\t\tmomentum=bnMom)(x)\r\n",
        "\t\t\tx = Activation(\"relu\")(x)\r\n",
        "\t\t\tx = ZeroPadding2D((1, 1))(x)\r\n",
        "\t\t\tx = MaxPooling2D((3, 3), strides=(2, 2))(x)\r\n",
        "\r\n",
        "\t\t# loop over the number of stages\r\n",
        "\t\tfor i in range(0, len(stages)):\r\n",
        "\t\t\t# initialize the stride, then apply a residual module\r\n",
        "\t\t\t# used to reduce the spatial size of the input volume\r\n",
        "\t\t\tstride = (1, 1) if i == 0 else (2, 2)\r\n",
        "\t\t\tx = ResNet.residual_module(x, filters[i + 1], stride,\r\n",
        "\t\t\t\tchanDim, red=True, bnEps=bnEps, bnMom=bnMom)\r\n",
        "\r\n",
        "\t\t\t# loop over the number of layers in the stage\r\n",
        "\t\t\tfor j in range(0, stages[i] - 1):\r\n",
        "\t\t\t\t# apply a ResNet module\r\n",
        "\t\t\t\tx = ResNet.residual_module(x, filters[i + 1],\r\n",
        "\t\t\t\t\t(1, 1), chanDim, bnEps=bnEps, bnMom=bnMom)\r\n",
        "\r\n",
        "\t\t# apply BN => ACT => POOL\r\n",
        "\t\tx = BatchNormalization(axis=chanDim, epsilon=bnEps,\r\n",
        "\t\t\tmomentum=bnMom)(x)\r\n",
        "\t\tx = Activation(\"relu\")(x)\r\n",
        "\t\tx = AveragePooling2D((8, 8))(x)\r\n",
        "\r\n",
        "\t\t# softmax classifier\r\n",
        "\t\tx = Flatten()(x)\r\n",
        "\t\tx = Dense(classes, kernel_regularizer=l2(reg))(x)\r\n",
        "\t\tx = Activation(\"softmax\")(x)\r\n",
        "\r\n",
        "\t\t# create the model\r\n",
        "\t\tmodel = Model(inputs, x, name=\"resnet\")\r\n",
        "\r\n",
        "\t\t# return the constructed network architecture\r\n",
        "\t\treturn model"
      ],
      "execution_count": 30,
      "outputs": []
    },
    {
      "cell_type": "code",
      "metadata": {
        "id": "Qwveo7bCt7OQ"
      },
      "source": [
        "# import the necessary packages\r\n",
        "from tensorflow.keras.callbacks import Callback\r\n",
        "import os\r\n",
        "\r\n",
        "class EpochCheckpoint(Callback):\r\n",
        "\tdef __init__(self, outputPath, every=5, startAt=0):\r\n",
        "\t\t# call the parent constructor\r\n",
        "\t\tsuper(Callback, self).__init__()\r\n",
        "\r\n",
        "\t\t# store the base output path for the model, the number of\r\n",
        "\t\t# epochs that must pass before the model is serialized to\r\n",
        "\t\t# disk and the current epoch value\r\n",
        "\t\tself.outputPath = outputPath\r\n",
        "\t\tself.every = every\r\n",
        "\t\tself.intEpoch = startAt\r\n",
        "\r\n",
        "\tdef on_epoch_end(self, epoch, logs={}):\r\n",
        "\t\t# check to see if the model should be serialized to disk\r\n",
        "\t\tif (self.intEpoch + 1) % self.every == 0:\r\n",
        "\t\t\tp = os.path.sep.join([self.outputPath,\r\n",
        "\t\t\t\t\"epoch_{}.hdf5\".format(self.intEpoch + 1)])\r\n",
        "\t\t\tself.model.save(p, overwrite=True)\r\n",
        "\r\n",
        "\t\t# increment the internal epoch counter\r\n",
        "\t\tself.intEpoch += 1"
      ],
      "execution_count": 31,
      "outputs": []
    },
    {
      "cell_type": "code",
      "metadata": {
        "id": "Cyocy9L9t-Ck"
      },
      "source": [
        "# import the necessary packages\r\n",
        "from tensorflow.keras.callbacks import BaseLogger\r\n",
        "import matplotlib.pyplot as plt\r\n",
        "import numpy as np\r\n",
        "import json\r\n",
        "import os\r\n",
        "\r\n",
        "class TrainingMonitor(BaseLogger):\r\n",
        "\tdef __init__(self, figPath, jsonPath=None, startAt=0):\r\n",
        "\t\t# store the output path for the figure, the path to the JSON\r\n",
        "\t\t# serialized file, and the starting epoch\r\n",
        "\t\tsuper(TrainingMonitor, self).__init__()\r\n",
        "\t\tself.figPath = figPath\r\n",
        "\t\tself.jsonPath = jsonPath\r\n",
        "\t\tself.startAt = startAt\r\n",
        "\r\n",
        "\tdef on_train_begin(self, logs={}):\r\n",
        "\t\t# initialize the history dictionary\r\n",
        "\t\tself.H = {}\r\n",
        "\r\n",
        "\t\t# if the JSON history path exists, load the training history\r\n",
        "\t\tif self.jsonPath is not None:\r\n",
        "\t\t\tif os.path.exists(self.jsonPath):\r\n",
        "\t\t\t\tself.H = json.loads(open(self.jsonPath).read())\r\n",
        "\r\n",
        "\t\t\t\t# check to see if a starting epoch was supplied\r\n",
        "\t\t\t\tif self.startAt > 0:\r\n",
        "\t\t\t\t\t# loop over the entries in the history log and\r\n",
        "\t\t\t\t\t# trim any entries that are past the starting\r\n",
        "\t\t\t\t\t# epoch\r\n",
        "\t\t\t\t\tfor k in self.H.keys():\r\n",
        "\t\t\t\t\t\tself.H[k] = self.H[k][:self.startAt]\r\n",
        "\r\n",
        "\tdef on_epoch_end(self, epoch, logs={}):\r\n",
        "\t\t# loop over the logs and update the loss, accuracy, etc.\r\n",
        "\t\t# for the entire training process\r\n",
        "\t\tfor (k, v) in logs.items():\r\n",
        "\t\t\tl = self.H.get(k, [])\r\n",
        "\t\t\tl.append(float(v))\r\n",
        "\t\t\tself.H[k] = l\r\n",
        "\r\n",
        "\t\t# check to see if the training history should be serialized\r\n",
        "\t\t# to file\r\n",
        "\t\tif self.jsonPath is not None:\r\n",
        "\t\t\tf = open(self.jsonPath, \"w\")\r\n",
        "\t\t\tf.write(json.dumps(self.H))\r\n",
        "\t\t\tf.close()\r\n",
        "\r\n",
        "\t\t# ensure at least two epochs have passed before plotting\r\n",
        "\t\t# (epoch starts at zero)\r\n",
        "\t\tif len(self.H[\"loss\"]) > 1:\r\n",
        "\t\t\t# plot the training loss and accuracy\r\n",
        "\t\t\tN = np.arange(0, len(self.H[\"loss\"]))\r\n",
        "\t\t\tplt.style.use(\"ggplot\")\r\n",
        "\t\t\tplt.figure()\r\n",
        "\t\t\tplt.plot(N, self.H[\"loss\"], label=\"train_loss\")\r\n",
        "\t\t\tplt.plot(N, self.H[\"val_loss\"], label=\"val_loss\")\r\n",
        "\t\t\tplt.plot(N, self.H[\"accuracy\"], label=\"train_acc\")\r\n",
        "\t\t\tplt.plot(N, self.H[\"val_accuracy\"], label=\"val_acc\")\r\n",
        "\t\t\tplt.title(\"Training Loss and Accuracy [Epoch {}]\".format(\r\n",
        "\t\t\t\tlen(self.H[\"loss\"])))\r\n",
        "\t\t\tplt.xlabel(\"Epoch #\")\r\n",
        "\t\t\tplt.ylabel(\"Loss/Accuracy\")\r\n",
        "\t\t\tplt.legend()\r\n",
        "\r\n",
        "\t\t\t# save the figure\r\n",
        "\t\t\tplt.savefig(self.figPath)\r\n",
        "\t\t\tplt.close()"
      ],
      "execution_count": 32,
      "outputs": []
    },
    {
      "cell_type": "code",
      "metadata": {
        "id": "kWc4tMN-uPcP"
      },
      "source": [
        "# set a high recursion limit so Theano doesn't complain\r\n",
        "sys.setrecursionlimit(5000)"
      ],
      "execution_count": 33,
      "outputs": []
    },
    {
      "cell_type": "code",
      "metadata": {
        "colab": {
          "base_uri": "https://localhost:8080/"
        },
        "id": "UCMNOeuuuTOF",
        "outputId": "6bb4d9e6-a48d-4057-d9f9-59a5e4562eea"
      },
      "source": [
        "# load the training and testing data, converting the images from\r\n",
        "# integers to floats\r\n",
        "print(\"[INFO] loading CIFAR-10 data...\")\r\n",
        "((trainX, trainY), (testX, testY)) = cifar10.load_data()\r\n",
        "trainX = trainX.astype(\"float\")\r\n",
        "testX = testX.astype(\"float\")"
      ],
      "execution_count": 34,
      "outputs": [
        {
          "output_type": "stream",
          "text": [
            "[INFO] loading CIFAR-10 data...\n"
          ],
          "name": "stdout"
        }
      ]
    },
    {
      "cell_type": "code",
      "metadata": {
        "id": "vGSLYT7guUkg"
      },
      "source": [
        "\r\n",
        "# apply mean subtraction to the data\r\n",
        "mean = np.mean(trainX, axis=0)\r\n",
        "trainX -= mean\r\n",
        "testX -= mean"
      ],
      "execution_count": 35,
      "outputs": []
    },
    {
      "cell_type": "code",
      "metadata": {
        "id": "2k1OjrlruWvF"
      },
      "source": [
        "# convert the labels from integers to vectors\r\n",
        "lb = LabelBinarizer()\r\n",
        "trainY = lb.fit_transform(trainY)\r\n",
        "testY = lb.transform(testY)"
      ],
      "execution_count": 36,
      "outputs": []
    },
    {
      "cell_type": "code",
      "metadata": {
        "id": "8prD0svUuYPy"
      },
      "source": [
        "# construct the image generator for data augmentation\r\n",
        "aug = ImageDataGenerator(width_shift_range=0.1,height_shift_range=0.1, horizontal_flip=True,fill_mode=\"nearest\")"
      ],
      "execution_count": 37,
      "outputs": []
    },
    {
      "cell_type": "code",
      "metadata": {
        "colab": {
          "base_uri": "https://localhost:8080/"
        },
        "id": "sK2sSJmMua7z",
        "outputId": "20eaf206-eed8-4119-ada5-280a17d4c479"
      },
      "source": [
        "# if there is no specific model checkpoint supplied, then initialize\r\n",
        "# the network (ResNet-56) and compile the model\r\n",
        "#if args[\"model\"] is None:\r\n",
        "#print(\"[INFO] compiling model...\")\r\n",
        "#opt = SGD(lr=1e-1)\r\n",
        "#model = ResNet.build(32, 32, 3, 10, (9, 9, 9),(64, 64, 128, 256), reg=0.0005)\r\n",
        "#model.compile(loss=\"categorical_crossentropy\", optimizer=opt,metrics=[\"accuracy\"])\r\n",
        "\r\n",
        "# otherwise, load the checkpoint from disk\r\n",
        "#else:\r\n",
        "print(\"[INFO] loading {}...\".format(\"/content/drive/MyDrive/dataset/flowers17/hdf5/epoch_80.hdf5\"))\r\n",
        "model = load_model(\"/content/drive/MyDrive/dataset/flowers17/hdf5/epoch_80.hdf5\")\r\n",
        "\r\n",
        "#\t# update the learning rate\r\n",
        "print(\"[INFO] old learning rate: {}\".format(K.get_value(model.optimizer.lr)))\r\n",
        "K.set_value(model.optimizer.lr, 1e-2)\r\n",
        "print(\"[INFO] new learning rate: {}\".format(\r\n",
        "K.get_value(model.optimizer.lr)))"
      ],
      "execution_count": 39,
      "outputs": [
        {
          "output_type": "stream",
          "text": [
            "[INFO] loading /content/drive/MyDrive/dataset/flowers17/hdf5/epoch_80.hdf5...\n",
            "[INFO] old learning rate: 0.10000000149011612\n",
            "[INFO] new learning rate: 0.009999999776482582\n"
          ],
          "name": "stdout"
        }
      ]
    },
    {
      "cell_type": "code",
      "metadata": {
        "id": "SMBK-iVPvtkx"
      },
      "source": [
        "checkpoints = \"/content/drive/MyDrive/dataset/flowers17/hdf5\"\r\n",
        "start_epoch=80"
      ],
      "execution_count": 42,
      "outputs": []
    },
    {
      "cell_type": "code",
      "metadata": {
        "id": "FLJ4kGrcuc9g"
      },
      "source": [
        "# construct the set of callbacks\r\n",
        "callbacks = [EpochCheckpoint(checkpoints, every=10,startAt=start_epoch),TrainingMonitor(\"/content/drive/MyDrive/dataset/flowers17/output/resnet56_cifar10.png\",jsonPath=\"/content/drive/MyDrive/dataset/flowers17/output/resnet56_cifar10.json\",startAt=start_epoch)]"
      ],
      "execution_count": 43,
      "outputs": []
    },
    {
      "cell_type": "code",
      "metadata": {
        "colab": {
          "base_uri": "https://localhost:8080/"
        },
        "id": "6KMJbo8wueVv",
        "outputId": "5808956a-4046-4d83-f42d-f50e2e23d99f"
      },
      "source": [
        "# train the network\r\n",
        "print(\"[INFO] training network...\")\r\n",
        "model.fit_generator(\r\n",
        "\taug.flow(trainX, trainY, batch_size=128),\r\n",
        "\tvalidation_data=(testX, testY),\r\n",
        "\tsteps_per_epoch=len(trainX) // 128, epochs=10,\r\n",
        "\tcallbacks=callbacks, verbose=1)"
      ],
      "execution_count": 44,
      "outputs": [
        {
          "output_type": "stream",
          "text": [
            "[INFO] training network...\n"
          ],
          "name": "stdout"
        },
        {
          "output_type": "stream",
          "text": [
            "/usr/local/lib/python3.6/dist-packages/tensorflow/python/keras/engine/training.py:1844: UserWarning: `Model.fit_generator` is deprecated and will be removed in a future version. Please use `Model.fit`, which supports generators.\n",
            "  warnings.warn('`Model.fit_generator` is deprecated and '\n"
          ],
          "name": "stderr"
        },
        {
          "output_type": "stream",
          "text": [
            "Epoch 1/10\n",
            "  6/390 [..............................] - ETA: 1:01 - loss: 0.3557 - accuracy: 0.9674WARNING:tensorflow:Callback method `on_train_batch_end` is slow compared to the batch time (batch time: 0.0765s vs `on_train_batch_end` time: 0.0893s). Check your callbacks.\n",
            "390/390 [==============================] - 70s 170ms/step - loss: 0.3221 - accuracy: 0.9777 - val_loss: 0.5573 - val_accuracy: 0.9083\n",
            "Epoch 2/10\n",
            "390/390 [==============================] - 65s 165ms/step - loss: 0.3049 - accuracy: 0.9835 - val_loss: 0.5536 - val_accuracy: 0.9106\n",
            "Epoch 3/10\n",
            "390/390 [==============================] - 64s 165ms/step - loss: 0.2972 - accuracy: 0.9868 - val_loss: 0.5573 - val_accuracy: 0.9112\n",
            "Epoch 4/10\n",
            "390/390 [==============================] - 64s 165ms/step - loss: 0.2942 - accuracy: 0.9872 - val_loss: 0.5570 - val_accuracy: 0.9096\n",
            "Epoch 5/10\n",
            "390/390 [==============================] - 64s 164ms/step - loss: 0.2915 - accuracy: 0.9884 - val_loss: 0.5615 - val_accuracy: 0.9103\n",
            "Epoch 6/10\n",
            "390/390 [==============================] - 64s 165ms/step - loss: 0.2890 - accuracy: 0.9893 - val_loss: 0.5561 - val_accuracy: 0.9111\n",
            "Epoch 7/10\n",
            "390/390 [==============================] - 64s 165ms/step - loss: 0.2857 - accuracy: 0.9898 - val_loss: 0.5564 - val_accuracy: 0.9138\n",
            "Epoch 8/10\n",
            "390/390 [==============================] - 64s 165ms/step - loss: 0.2850 - accuracy: 0.9903 - val_loss: 0.5600 - val_accuracy: 0.9112\n",
            "Epoch 9/10\n",
            "390/390 [==============================] - 64s 165ms/step - loss: 0.2832 - accuracy: 0.9904 - val_loss: 0.5565 - val_accuracy: 0.9133\n",
            "Epoch 10/10\n",
            "390/390 [==============================] - 64s 165ms/step - loss: 0.2814 - accuracy: 0.9908 - val_loss: 0.5604 - val_accuracy: 0.9138\n"
          ],
          "name": "stdout"
        },
        {
          "output_type": "execute_result",
          "data": {
            "text/plain": [
              "<tensorflow.python.keras.callbacks.History at 0x7fc1157d8160>"
            ]
          },
          "metadata": {
            "tags": []
          },
          "execution_count": 44
        }
      ]
    }
  ]
}